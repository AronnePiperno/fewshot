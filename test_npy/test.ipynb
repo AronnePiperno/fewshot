{
 "cells": [
  {
   "cell_type": "code",
   "execution_count": 1,
   "metadata": {},
   "outputs": [],
   "source": [
    "# open the files npy\n",
    "import numpy as np"
   ]
  },
  {
   "cell_type": "code",
   "execution_count": 6,
   "metadata": {},
   "outputs": [
    {
     "data": {
      "text/plain": [
       "array([[ 0.04016214, -0.05720371, -0.02990145, ..., -0.0273644 ,\n",
       "         0.01383838, -0.02842989],\n",
       "       [ 0.04082854, -0.05700693, -0.0334527 , ..., -0.02729513,\n",
       "         0.01435282, -0.02259603],\n",
       "       [ 0.0411952 , -0.05512578, -0.03453591, ..., -0.02856283,\n",
       "         0.01427309, -0.02352793],\n",
       "       ...,\n",
       "       [ 0.04373431, -0.03985716, -0.03271119, ..., -0.02751419,\n",
       "         0.01156592, -0.03534379],\n",
       "       [ 0.04653815, -0.03720825, -0.03113269, ..., -0.02859405,\n",
       "         0.01527141, -0.03474774],\n",
       "       [ 0.04638058, -0.03685354, -0.03040072, ..., -0.02824436,\n",
       "         0.0148025 , -0.03458937]], dtype=float32)"
      ]
     },
     "execution_count": 6,
     "metadata": {},
     "output_type": "execute_result"
    }
   ],
   "source": [
    "# open the files\n",
    "data = np.load('v_BaseballPitch_g07_c07.npy')\n",
    "\n",
    "data\n"
   ]
  },
  {
   "cell_type": "code",
   "execution_count": 4,
   "metadata": {},
   "outputs": [
    {
     "data": {
      "text/plain": [
       "array([[ 0.01609566, -0.0154528 , -0.02427931, ...,  0.00522804,\n",
       "        -0.03302251,  0.00611644],\n",
       "       [ 0.01609561, -0.01545282, -0.02427936, ...,  0.0052281 ,\n",
       "        -0.03302243,  0.00611648],\n",
       "       [ 0.01004032, -0.01901863, -0.016861  , ...,  0.00498696,\n",
       "        -0.02939986,  0.00457515],\n",
       "       ...,\n",
       "       [-0.017357  , -0.03271347, -0.00448356, ...,  0.03276654,\n",
       "        -0.056968  , -0.00203414],\n",
       "       [-0.00429581, -0.0292862 ,  0.00158479, ...,  0.01015415,\n",
       "        -0.04953422, -0.00075582],\n",
       "       [-0.00841683, -0.03603159, -0.00598836, ...,  0.00977568,\n",
       "        -0.05338857,  0.00089013]], dtype=float32)"
      ]
     },
     "execution_count": 4,
     "metadata": {},
     "output_type": "execute_result"
    }
   ],
   "source": [
    "data = np.load('video_test_0000004.npy')\n",
    "data"
   ]
  }
 ],
 "metadata": {
  "kernelspec": {
   "display_name": "fewshot",
   "language": "python",
   "name": "python3"
  },
  "language_info": {
   "codemirror_mode": {
    "name": "ipython",
    "version": 3
   },
   "file_extension": ".py",
   "mimetype": "text/x-python",
   "name": "python",
   "nbconvert_exporter": "python",
   "pygments_lexer": "ipython3",
   "version": "3.11.11"
  }
 },
 "nbformat": 4,
 "nbformat_minor": 2
}
