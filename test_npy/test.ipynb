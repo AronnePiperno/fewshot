{
 "cells": [
  {
   "cell_type": "code",
   "execution_count": 1,
   "metadata": {},
   "outputs": [],
   "source": [
    "# open the files npy\n",
    "import numpy as np"
   ]
  },
  {
   "cell_type": "code",
   "execution_count": 4,
   "metadata": {},
   "outputs": [
    {
     "name": "stdout",
     "output_type": "stream",
     "text": [
      "Saved average.npy in the current directory\n"
     ]
    }
   ],
   "source": [
    "# open all the files that ends with .npy\n",
    "import glob\n",
    "import numpy as np\n",
    "import os\n",
    "\n",
    "npy_files = glob.glob('*.npy')\n",
    "\n",
    "if not npy_files:\n",
    "    print(\"No .npy files found in the folder.\")\n",
    "else:\n",
    "    arrays = [np.load(npy_file) for npy_file in npy_files]\n",
    "    \n",
    "    # Find the maximum shape\n",
    "    max_shape = tuple(max(sizes) for sizes in zip(*[array.shape for array in arrays]))\n",
    "\n",
    "    # Pad arrays to the maximum shape\n",
    "    padded_arrays = []\n",
    "    for array in arrays:\n",
    "        pad_width = [(0, max_dim - array_dim) for array_dim, max_dim in zip(array.shape, max_shape)]\n",
    "        padded_array = np.pad(array, pad_width, mode='constant', constant_values=0)\n",
    "        padded_arrays.append(padded_array)\n",
    "\n",
    "    # Sum the padded arrays\n",
    "    sum_array = np.sum(padded_arrays, axis=0)\n",
    "\n",
    "    # Calculate the average\n",
    "    average_array = sum_array / len(npy_files)\n",
    "\n",
    "    # Save the average array to a new file\n",
    "    np.save('average.npy', average_array)\n",
    "    print(f\"Saved average.npy in the current directory\")"
   ]
  },
  {
   "cell_type": "code",
   "execution_count": 6,
   "metadata": {},
   "outputs": [
    {
     "name": "stdout",
     "output_type": "stream",
     "text": [
      "(110, 768)\n",
      "[[ 0.03327619 -0.04165474 -0.03313071 ... -0.02476664  0.02855641\n",
      "  -0.03013425]\n",
      " [ 0.03568707 -0.04059107 -0.03280912 ... -0.02739107  0.02885009\n",
      "  -0.02876461]\n",
      " [ 0.03613919 -0.04135772 -0.03260567 ... -0.02720468  0.02826414\n",
      "  -0.0282927 ]\n",
      " ...\n",
      " [ 0.01058094 -0.00955293 -0.00763866 ... -0.00404355  0.00477938\n",
      "  -0.00655204]\n",
      " [ 0.00978824 -0.0096689  -0.00777787 ... -0.00423442  0.00451034\n",
      "  -0.00696998]\n",
      " [ 0.01000159 -0.00941866 -0.00790555 ... -0.00436758  0.00472722\n",
      "  -0.00676424]]\n"
     ]
    }
   ],
   "source": [
    "# open average.npy\n",
    "average = np.load('average.npy')\n",
    "print(average.shape)\n",
    "print(average)\n"
   ]
  }
 ],
 "metadata": {
  "kernelspec": {
   "display_name": "fewshot",
   "language": "python",
   "name": "python3"
  },
  "language_info": {
   "codemirror_mode": {
    "name": "ipython",
    "version": 3
   },
   "file_extension": ".py",
   "mimetype": "text/x-python",
   "name": "python",
   "nbconvert_exporter": "python",
   "pygments_lexer": "ipython3",
   "version": "3.11.11"
  }
 },
 "nbformat": 4,
 "nbformat_minor": 2
}
