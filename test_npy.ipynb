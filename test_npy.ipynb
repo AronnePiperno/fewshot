{
 "cells": [
  {
   "cell_type": "code",
   "execution_count": 2,
   "metadata": {},
   "outputs": [],
   "source": [
    "import numpy as np"
   ]
  },
  {
   "cell_type": "code",
   "execution_count": 3,
   "metadata": {},
   "outputs": [],
   "source": [
    "# import npy file\n",
    "data = np.load('./testesteste.npy')"
   ]
  },
  {
   "cell_type": "code",
   "execution_count": 4,
   "metadata": {},
   "outputs": [
    {
     "data": {
      "text/plain": [
       "array([[[-0.02195475, -0.02758524, -0.00395703, ...,  0.0455572 ,\n",
       "         -0.03407433,  0.00497439],\n",
       "        [-0.02183715, -0.02722145, -0.00389056, ...,  0.04554673,\n",
       "         -0.03415053,  0.00498483],\n",
       "        [-0.02219126, -0.0316246 , -0.00473912, ...,  0.04318529,\n",
       "         -0.03661707,  0.00332312],\n",
       "        ...,\n",
       "        [ 0.02089523, -0.06016107, -0.031831  , ...,  0.02589785,\n",
       "         -0.01765326,  0.02985712],\n",
       "        [ 0.01379829, -0.05739485, -0.03010174, ...,  0.0278591 ,\n",
       "         -0.02384689,  0.02979178],\n",
       "        [ 0.01882364, -0.05380364, -0.03774336, ...,  0.02428671,\n",
       "         -0.01715394,  0.03044299]]], dtype=float32)"
      ]
     },
     "execution_count": 4,
     "metadata": {},
     "output_type": "execute_result"
    }
   ],
   "source": [
    "data"
   ]
  },
  {
   "cell_type": "code",
   "execution_count": 5,
   "metadata": {},
   "outputs": [],
   "source": [
    "other_data = np.load('./video_validation_0000365.npy')\n"
   ]
  },
  {
   "cell_type": "code",
   "execution_count": 6,
   "metadata": {},
   "outputs": [
    {
     "data": {
      "text/plain": [
       "array([[-0.02195475, -0.02758524, -0.00395703, ...,  0.0455572 ,\n",
       "        -0.03407433,  0.00497439],\n",
       "       [-0.02183715, -0.02722145, -0.00389056, ...,  0.04554673,\n",
       "        -0.03415053,  0.00498483],\n",
       "       [-0.02219126, -0.0316246 , -0.00473912, ...,  0.04318529,\n",
       "        -0.03661707,  0.00332312],\n",
       "       ...,\n",
       "       [ 0.02089523, -0.06016107, -0.031831  , ...,  0.02589785,\n",
       "        -0.01765326,  0.02985712],\n",
       "       [ 0.01379829, -0.05739485, -0.03010174, ...,  0.0278591 ,\n",
       "        -0.02384689,  0.02979178],\n",
       "       [ 0.01882364, -0.05380364, -0.03774336, ...,  0.02428671,\n",
       "        -0.01715394,  0.03044299]], dtype=float32)"
      ]
     },
     "execution_count": 6,
     "metadata": {},
     "output_type": "execute_result"
    }
   ],
   "source": [
    "other_data"
   ]
  }
 ],
 "metadata": {
  "kernelspec": {
   "display_name": "fewshot",
   "language": "python",
   "name": "python3"
  },
  "language_info": {
   "codemirror_mode": {
    "name": "ipython",
    "version": 3
   },
   "file_extension": ".py",
   "mimetype": "text/x-python",
   "name": "python",
   "nbconvert_exporter": "python",
   "pygments_lexer": "ipython3",
   "version": "3.11.11"
  }
 },
 "nbformat": 4,
 "nbformat_minor": 2
}
